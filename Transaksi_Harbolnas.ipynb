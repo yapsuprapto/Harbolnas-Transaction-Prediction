{
  "nbformat": 4,
  "nbformat_minor": 0,
  "metadata": {
    "colab": {
      "name": "Transaksi Harbolnas.ipynb",
      "provenance": [],
      "collapsed_sections": []
    },
    "kernelspec": {
      "name": "python3",
      "display_name": "Python 3"
    }
  },
  "cells": [
    {
      "cell_type": "code",
      "metadata": {
        "id": "8_PK4PiOmNsB",
        "colab": {
          "base_uri": "https://localhost:8080/"
        },
        "outputId": "8bef8b85-6165-419e-a9fc-940f936fc402"
      },
      "source": [
        "import pandas as pd\r\n",
        "import numpy as np\r\n",
        "import matplotlib.pyplot as plt\r\n",
        "import seaborn as sns\r\n",
        "import statsmodels.api as sm\r\n",
        "sns.set()\r\n",
        "from sklearn.linear_model import LinearRegression\r\n",
        "from sklearn.model_selection import train_test_split"
      ],
      "execution_count": 1,
      "outputs": [
        {
          "output_type": "stream",
          "text": [
            "/usr/local/lib/python3.6/dist-packages/statsmodels/tools/_testing.py:19: FutureWarning: pandas.util.testing is deprecated. Use the functions in the public API at pandas.testing instead.\n",
            "  import pandas.util.testing as tm\n"
          ],
          "name": "stderr"
        }
      ]
    },
    {
      "cell_type": "code",
      "metadata": {
        "colab": {
          "base_uri": "https://localhost:8080/",
          "height": 297
        },
        "id": "e39Wt7EXmPxG",
        "outputId": "355fc3b2-b927-41c4-c682-99237fecfd4c"
      },
      "source": [
        "data = {'Year' : ['2013','2014','2015','2016','2017','2018','2019','2020'],\r\n",
        "        'Transaction Value':  ['0.74', '1.4','2.1','3.3','4.7','6.8','9.1','38.95'],\r\n",
        "        'Number of Platform':['22','78','140','200','254','300','324','400'],\r\n",
        "        'Demanded Product' : ['Fashion dan Alat Elektronik','Fashion','Fashion','Fashion,Kosmetik dan Kebutuhan sehari-hari','Fashion dan Tiket Murah','Fashion, Kecantikan dan Travel','Fashion,Gadget dan Travel','Gadget,Fashion,Kecantikan,Popok Bayi, Alat Elektronik']\r\n",
        "        }\r\n",
        "\r\n",
        "df = pd.DataFrame (data, columns = ['Year','Transaction Value','Number of Platform','Demanded Product'])\r\n",
        "\r\n",
        "df"
      ],
      "execution_count": 2,
      "outputs": [
        {
          "output_type": "execute_result",
          "data": {
            "text/html": [
              "<div>\n",
              "<style scoped>\n",
              "    .dataframe tbody tr th:only-of-type {\n",
              "        vertical-align: middle;\n",
              "    }\n",
              "\n",
              "    .dataframe tbody tr th {\n",
              "        vertical-align: top;\n",
              "    }\n",
              "\n",
              "    .dataframe thead th {\n",
              "        text-align: right;\n",
              "    }\n",
              "</style>\n",
              "<table border=\"1\" class=\"dataframe\">\n",
              "  <thead>\n",
              "    <tr style=\"text-align: right;\">\n",
              "      <th></th>\n",
              "      <th>Year</th>\n",
              "      <th>Transaction Value</th>\n",
              "      <th>Number of Platform</th>\n",
              "      <th>Demanded Product</th>\n",
              "    </tr>\n",
              "  </thead>\n",
              "  <tbody>\n",
              "    <tr>\n",
              "      <th>0</th>\n",
              "      <td>2013</td>\n",
              "      <td>0.74</td>\n",
              "      <td>22</td>\n",
              "      <td>Fashion dan Alat Elektronik</td>\n",
              "    </tr>\n",
              "    <tr>\n",
              "      <th>1</th>\n",
              "      <td>2014</td>\n",
              "      <td>1.4</td>\n",
              "      <td>78</td>\n",
              "      <td>Fashion</td>\n",
              "    </tr>\n",
              "    <tr>\n",
              "      <th>2</th>\n",
              "      <td>2015</td>\n",
              "      <td>2.1</td>\n",
              "      <td>140</td>\n",
              "      <td>Fashion</td>\n",
              "    </tr>\n",
              "    <tr>\n",
              "      <th>3</th>\n",
              "      <td>2016</td>\n",
              "      <td>3.3</td>\n",
              "      <td>200</td>\n",
              "      <td>Fashion,Kosmetik dan Kebutuhan sehari-hari</td>\n",
              "    </tr>\n",
              "    <tr>\n",
              "      <th>4</th>\n",
              "      <td>2017</td>\n",
              "      <td>4.7</td>\n",
              "      <td>254</td>\n",
              "      <td>Fashion dan Tiket Murah</td>\n",
              "    </tr>\n",
              "    <tr>\n",
              "      <th>5</th>\n",
              "      <td>2018</td>\n",
              "      <td>6.8</td>\n",
              "      <td>300</td>\n",
              "      <td>Fashion, Kecantikan dan Travel</td>\n",
              "    </tr>\n",
              "    <tr>\n",
              "      <th>6</th>\n",
              "      <td>2019</td>\n",
              "      <td>9.1</td>\n",
              "      <td>324</td>\n",
              "      <td>Fashion,Gadget dan Travel</td>\n",
              "    </tr>\n",
              "    <tr>\n",
              "      <th>7</th>\n",
              "      <td>2020</td>\n",
              "      <td>38.95</td>\n",
              "      <td>400</td>\n",
              "      <td>Gadget,Fashion,Kecantikan,Popok Bayi, Alat Ele...</td>\n",
              "    </tr>\n",
              "  </tbody>\n",
              "</table>\n",
              "</div>"
            ],
            "text/plain": [
              "   Year  ...                                   Demanded Product\n",
              "0  2013  ...                        Fashion dan Alat Elektronik\n",
              "1  2014  ...                                            Fashion\n",
              "2  2015  ...                                            Fashion\n",
              "3  2016  ...         Fashion,Kosmetik dan Kebutuhan sehari-hari\n",
              "4  2017  ...                            Fashion dan Tiket Murah\n",
              "5  2018  ...                     Fashion, Kecantikan dan Travel\n",
              "6  2019  ...                          Fashion,Gadget dan Travel\n",
              "7  2020  ...  Gadget,Fashion,Kecantikan,Popok Bayi, Alat Ele...\n",
              "\n",
              "[8 rows x 4 columns]"
            ]
          },
          "metadata": {
            "tags": []
          },
          "execution_count": 2
        }
      ]
    },
    {
      "cell_type": "code",
      "metadata": {
        "colab": {
          "base_uri": "https://localhost:8080/",
          "height": 297
        },
        "id": "kzDXaOkYSo0e",
        "outputId": "560eb895-978f-4775-c93a-a6cff1710e80"
      },
      "source": [
        "from sklearn.preprocessing import LabelEncoder\r\n",
        "encoder = LabelEncoder()\r\n",
        "df['Demanded Product'] = encoder.fit_transform(df['Demanded Product'])\r\n",
        "df"
      ],
      "execution_count": 3,
      "outputs": [
        {
          "output_type": "execute_result",
          "data": {
            "text/html": [
              "<div>\n",
              "<style scoped>\n",
              "    .dataframe tbody tr th:only-of-type {\n",
              "        vertical-align: middle;\n",
              "    }\n",
              "\n",
              "    .dataframe tbody tr th {\n",
              "        vertical-align: top;\n",
              "    }\n",
              "\n",
              "    .dataframe thead th {\n",
              "        text-align: right;\n",
              "    }\n",
              "</style>\n",
              "<table border=\"1\" class=\"dataframe\">\n",
              "  <thead>\n",
              "    <tr style=\"text-align: right;\">\n",
              "      <th></th>\n",
              "      <th>Year</th>\n",
              "      <th>Transaction Value</th>\n",
              "      <th>Number of Platform</th>\n",
              "      <th>Demanded Product</th>\n",
              "    </tr>\n",
              "  </thead>\n",
              "  <tbody>\n",
              "    <tr>\n",
              "      <th>0</th>\n",
              "      <td>2013</td>\n",
              "      <td>0.74</td>\n",
              "      <td>22</td>\n",
              "      <td>1</td>\n",
              "    </tr>\n",
              "    <tr>\n",
              "      <th>1</th>\n",
              "      <td>2014</td>\n",
              "      <td>1.4</td>\n",
              "      <td>78</td>\n",
              "      <td>0</td>\n",
              "    </tr>\n",
              "    <tr>\n",
              "      <th>2</th>\n",
              "      <td>2015</td>\n",
              "      <td>2.1</td>\n",
              "      <td>140</td>\n",
              "      <td>0</td>\n",
              "    </tr>\n",
              "    <tr>\n",
              "      <th>3</th>\n",
              "      <td>2016</td>\n",
              "      <td>3.3</td>\n",
              "      <td>200</td>\n",
              "      <td>5</td>\n",
              "    </tr>\n",
              "    <tr>\n",
              "      <th>4</th>\n",
              "      <td>2017</td>\n",
              "      <td>4.7</td>\n",
              "      <td>254</td>\n",
              "      <td>2</td>\n",
              "    </tr>\n",
              "    <tr>\n",
              "      <th>5</th>\n",
              "      <td>2018</td>\n",
              "      <td>6.8</td>\n",
              "      <td>300</td>\n",
              "      <td>3</td>\n",
              "    </tr>\n",
              "    <tr>\n",
              "      <th>6</th>\n",
              "      <td>2019</td>\n",
              "      <td>9.1</td>\n",
              "      <td>324</td>\n",
              "      <td>4</td>\n",
              "    </tr>\n",
              "    <tr>\n",
              "      <th>7</th>\n",
              "      <td>2020</td>\n",
              "      <td>38.95</td>\n",
              "      <td>400</td>\n",
              "      <td>6</td>\n",
              "    </tr>\n",
              "  </tbody>\n",
              "</table>\n",
              "</div>"
            ],
            "text/plain": [
              "   Year Transaction Value Number of Platform  Demanded Product\n",
              "0  2013              0.74                 22                 1\n",
              "1  2014               1.4                 78                 0\n",
              "2  2015               2.1                140                 0\n",
              "3  2016               3.3                200                 5\n",
              "4  2017               4.7                254                 2\n",
              "5  2018               6.8                300                 3\n",
              "6  2019               9.1                324                 4\n",
              "7  2020             38.95                400                 6"
            ]
          },
          "metadata": {
            "tags": []
          },
          "execution_count": 3
        }
      ]
    },
    {
      "cell_type": "code",
      "metadata": {
        "id": "ixVxFCIc5W9b"
      },
      "source": [
        "def Missing_Values(data):\r\n",
        "    variabel_name =[]\r\n",
        "    total_value=[]\r\n",
        "    total_missing_value=[]\r\n",
        "    missing_value_rate=[]\r\n",
        "    unique_value_list=[]\r\n",
        "    total_unique_value=[]\r\n",
        "    data_type=[]\r\n",
        "    for col in data.columns:\r\n",
        "      variabel_name.append(col)\r\n",
        "      data_type.append(data[col].dtype)\r\n",
        "      total_value.append(data[col].shape[0])\r\n",
        "      total_missing_value.append(data[col].isnull().sum())\r\n",
        "      unique_value_list.append(data[col].unique())\r\n",
        "      total_unique_value.append(len(data[col].unique()))\r\n",
        "      missing_value_rate.append(round(data[col].isnull().sum()/data[col].shape[0],3))\r\n",
        "\r\n",
        "    missing_data = pd.DataFrame({\"Variabel\":variabel_name,\"Total_value\": total_value,\r\n",
        "                                \"Total missing value\": total_missing_value,\"Missing Value\":missing_value_rate,\r\n",
        "                                 \"Data_type\": data_type,\"Unique_value\":unique_value_list,\r\n",
        "                                 \"total_unique_value\":total_unique_value})\r\n",
        "    return missing_data.sort_values(\"Missing Value\", ascending=False)"
      ],
      "execution_count": 4,
      "outputs": []
    },
    {
      "cell_type": "code",
      "metadata": {
        "colab": {
          "base_uri": "https://localhost:8080/",
          "height": 258
        },
        "id": "C4LswxiV8ck6",
        "outputId": "39e685f9-e540-447b-9fdb-0ea8845878b0"
      },
      "source": [
        "Missing_Values(df)"
      ],
      "execution_count": 5,
      "outputs": [
        {
          "output_type": "execute_result",
          "data": {
            "text/html": [
              "<div>\n",
              "<style scoped>\n",
              "    .dataframe tbody tr th:only-of-type {\n",
              "        vertical-align: middle;\n",
              "    }\n",
              "\n",
              "    .dataframe tbody tr th {\n",
              "        vertical-align: top;\n",
              "    }\n",
              "\n",
              "    .dataframe thead th {\n",
              "        text-align: right;\n",
              "    }\n",
              "</style>\n",
              "<table border=\"1\" class=\"dataframe\">\n",
              "  <thead>\n",
              "    <tr style=\"text-align: right;\">\n",
              "      <th></th>\n",
              "      <th>Variabel</th>\n",
              "      <th>Total_value</th>\n",
              "      <th>Total missing value</th>\n",
              "      <th>Missing Value</th>\n",
              "      <th>Data_type</th>\n",
              "      <th>Unique_value</th>\n",
              "      <th>total_unique_value</th>\n",
              "    </tr>\n",
              "  </thead>\n",
              "  <tbody>\n",
              "    <tr>\n",
              "      <th>0</th>\n",
              "      <td>Year</td>\n",
              "      <td>8</td>\n",
              "      <td>0</td>\n",
              "      <td>0.0</td>\n",
              "      <td>object</td>\n",
              "      <td>[2013, 2014, 2015, 2016, 2017, 2018, 2019, 2020]</td>\n",
              "      <td>8</td>\n",
              "    </tr>\n",
              "    <tr>\n",
              "      <th>1</th>\n",
              "      <td>Transaction Value</td>\n",
              "      <td>8</td>\n",
              "      <td>0</td>\n",
              "      <td>0.0</td>\n",
              "      <td>object</td>\n",
              "      <td>[0.74, 1.4, 2.1, 3.3, 4.7, 6.8, 9.1, 38.95]</td>\n",
              "      <td>8</td>\n",
              "    </tr>\n",
              "    <tr>\n",
              "      <th>2</th>\n",
              "      <td>Number of Platform</td>\n",
              "      <td>8</td>\n",
              "      <td>0</td>\n",
              "      <td>0.0</td>\n",
              "      <td>object</td>\n",
              "      <td>[22, 78, 140, 200, 254, 300, 324, 400]</td>\n",
              "      <td>8</td>\n",
              "    </tr>\n",
              "    <tr>\n",
              "      <th>3</th>\n",
              "      <td>Demanded Product</td>\n",
              "      <td>8</td>\n",
              "      <td>0</td>\n",
              "      <td>0.0</td>\n",
              "      <td>int64</td>\n",
              "      <td>[1, 0, 5, 2, 3, 4, 6]</td>\n",
              "      <td>7</td>\n",
              "    </tr>\n",
              "  </tbody>\n",
              "</table>\n",
              "</div>"
            ],
            "text/plain": [
              "             Variabel  ...  total_unique_value\n",
              "0                Year  ...                   8\n",
              "1   Transaction Value  ...                   8\n",
              "2  Number of Platform  ...                   8\n",
              "3    Demanded Product  ...                   7\n",
              "\n",
              "[4 rows x 7 columns]"
            ]
          },
          "metadata": {
            "tags": []
          },
          "execution_count": 5
        }
      ]
    },
    {
      "cell_type": "code",
      "metadata": {
        "id": "ZJ4gbFR1CjfT"
      },
      "source": [
        "df[\"Number of Platform\"] = df[\"Number of Platform\"].astype(str).astype(int)\r\n",
        "df[\"Transaction Value\"] = df[\"Transaction Value\"].astype(str).astype(float)"
      ],
      "execution_count": 6,
      "outputs": []
    },
    {
      "cell_type": "code",
      "metadata": {
        "id": "T4UivsXNE64I",
        "colab": {
          "base_uri": "https://localhost:8080/"
        },
        "outputId": "a97fcff5-dc08-41f6-9f98-8de4bfaefbb5"
      },
      "source": [
        "df.isnull().sum()"
      ],
      "execution_count": 8,
      "outputs": [
        {
          "output_type": "execute_result",
          "data": {
            "text/plain": [
              "Year                  0\n",
              "Transaction Value     0\n",
              "Number of Platform    0\n",
              "Demanded Product      0\n",
              "dtype: int64"
            ]
          },
          "metadata": {
            "tags": []
          },
          "execution_count": 8
        }
      ]
    },
    {
      "cell_type": "code",
      "metadata": {
        "id": "Wmou7_FMFANG",
        "colab": {
          "base_uri": "https://localhost:8080/",
          "height": 268
        },
        "outputId": "8b6ee345-1678-4429-ae1e-3b6002757005"
      },
      "source": [
        "f = plt.figure(figsize=(12,4))\r\n",
        "f.add_subplot(1,2,1)\r\n",
        "df['Transaction Value'].plot(kind='kde')\r\n",
        "f.add_subplot(1,2,2)\r\n",
        "plt.boxplot(df['Transaction Value'])\r\n",
        "plt.show()"
      ],
      "execution_count": 9,
      "outputs": [
        {
          "output_type": "display_data",
          "data": {
            "image/png": "[encoded data removed]",
            "text/plain": [
              "<Figure size 864x288 with 2 Axes>"
            ]
          },
          "metadata": {
            "tags": [],
            "needs_background": "light"
          }
        }
      ]
    },
    {
      "cell_type": "code",
      "metadata": {
        "id": "qPdOCrIBFnfn",
        "colab": {
          "base_uri": "https://localhost:8080/",
          "height": 268
        },
        "outputId": "baab85ab-ea8d-4cc7-b487-2395219d2c2f"
      },
      "source": [
        "f = plt.figure(figsize=(12,4))\r\n",
        "f.add_subplot(1,2,1)\r\n",
        "df['Number of Platform'].plot(kind='kde')\r\n",
        "f.add_subplot(1,2,2)\r\n",
        "plt.boxplot(df['Number of Platform'])\r\n",
        "plt.show()"
      ],
      "execution_count": 10,
      "outputs": [
        {
          "output_type": "display_data",
          "data": {
            "image/png": "[encoded data removed]",
            "text/plain": [
              "<Figure size 864x288 with 2 Axes>"
            ]
          },
          "metadata": {
            "tags": [],
            "needs_background": "light"
          }
        }
      ]
    },
    {
      "cell_type": "code",
      "metadata": {
        "id": "RwWR4OoHFzEd",
        "colab": {
          "base_uri": "https://localhost:8080/",
          "height": 271
        },
        "outputId": "08123a18-65eb-4967-d374-190f093ff569"
      },
      "source": [
        "f = plt.figure(figsize=(12,4))\r\n",
        "f.add_subplot(1,2,1)\r\n",
        "df['Demanded Product'].plot(kind='kde')\r\n",
        "f.add_subplot(1,2,2)\r\n",
        "plt.boxplot(df['Demanded Product'])\r\n",
        "plt.show()"
      ],
      "execution_count": 11,
      "outputs": [
        {
          "output_type": "display_data",
          "data": {
            "image/png": "[encoded data removed]",
            "text/plain": [
              "<Figure size 864x288 with 2 Axes>"
            ]
          },
          "metadata": {
            "tags": [],
            "needs_background": "light"
          }
        }
      ]
    },
    {
      "cell_type": "code",
      "metadata": {
        "id": "W8RUTfcWGYWe",
        "colab": {
          "base_uri": "https://localhost:8080/",
          "height": 301
        },
        "outputId": "d53c8b00-33f7-4fcf-f7b8-f9d2df876e8f"
      },
      "source": [
        "#Bivariate analysis horsepower dan price.\r\n",
        "#Menggunakan scatter plot.\r\n",
        "plt.scatter(df['Transaction Value'], df['Year'])\r\n",
        "plt.xlabel('Transaction Value')\r\n",
        "plt.ylabel('Year')\r\n",
        "plt.title('Scatter Plot Transaction Value vs Year')\r\n",
        "plt.show()"
      ],
      "execution_count": 12,
      "outputs": [
        {
          "output_type": "display_data",
          "data": {
            "image/png": "[encoded data removed]",
            "text/plain": [
              "<Figure size 432x288 with 1 Axes>"
            ]
          },
          "metadata": {
            "tags": [],
            "needs_background": "light"
          }
        }
      ]
    },
    {
      "cell_type": "code",
      "metadata": {
        "id": "8oiToYm4G4To",
        "colab": {
          "base_uri": "https://localhost:8080/",
          "height": 142
        },
        "outputId": "5e668cb1-1446-46da-a5c9-6a38bba3439f"
      },
      "source": [
        "#Mengetahui nilai korelasi dari Demanded product dan Number of platform.\r\n",
        "#Nilai korelasinya adalah 0.78 termasuk kategori cukup tinggi.\r\n",
        "df.corr()"
      ],
      "execution_count": 13,
      "outputs": [
        {
          "output_type": "execute_result",
          "data": {
            "text/html": [
              "<div>\n",
              "<style scoped>\n",
              "    .dataframe tbody tr th:only-of-type {\n",
              "        vertical-align: middle;\n",
              "    }\n",
              "\n",
              "    .dataframe tbody tr th {\n",
              "        vertical-align: top;\n",
              "    }\n",
              "\n",
              "    .dataframe thead th {\n",
              "        text-align: right;\n",
              "    }\n",
              "</style>\n",
              "<table border=\"1\" class=\"dataframe\">\n",
              "  <thead>\n",
              "    <tr style=\"text-align: right;\">\n",
              "      <th></th>\n",
              "      <th>Transaction Value</th>\n",
              "      <th>Number of Platform</th>\n",
              "      <th>Demanded Product</th>\n",
              "    </tr>\n",
              "  </thead>\n",
              "  <tbody>\n",
              "    <tr>\n",
              "      <th>Transaction Value</th>\n",
              "      <td>1.000000</td>\n",
              "      <td>0.736541</td>\n",
              "      <td>0.702492</td>\n",
              "    </tr>\n",
              "    <tr>\n",
              "      <th>Number of Platform</th>\n",
              "      <td>0.736541</td>\n",
              "      <td>1.000000</td>\n",
              "      <td>0.789843</td>\n",
              "    </tr>\n",
              "    <tr>\n",
              "      <th>Demanded Product</th>\n",
              "      <td>0.702492</td>\n",
              "      <td>0.789843</td>\n",
              "      <td>1.000000</td>\n",
              "    </tr>\n",
              "  </tbody>\n",
              "</table>\n",
              "</div>"
            ],
            "text/plain": [
              "                    Transaction Value  Number of Platform  Demanded Product\n",
              "Transaction Value            1.000000            0.736541          0.702492\n",
              "Number of Platform           0.736541            1.000000          0.789843\n",
              "Demanded Product             0.702492            0.789843          1.000000"
            ]
          },
          "metadata": {
            "tags": []
          },
          "execution_count": 13
        }
      ]
    },
    {
      "cell_type": "code",
      "metadata": {
        "id": "fblk8PgAHbqw"
      },
      "source": [
        "# Tahapan selanjutnya adalah modeling\r\n",
        "x = df['Year']\r\n",
        "y = df[['Transaction Value', 'Number of Platform','Demanded Product']]"
      ],
      "execution_count": 14,
      "outputs": []
    },
    {
      "cell_type": "code",
      "metadata": {
        "id": "hNh1-zezJ0WW",
        "colab": {
          "base_uri": "https://localhost:8080/"
        },
        "outputId": "1388e628-ec8c-4ae1-e841-f221881def28"
      },
      "source": [
        "y_train_new = np.array(y)\r\n",
        "x_train_new = np.array(x).reshape(-1,1)\r\n",
        "print(x_train_new.shape)\r\n",
        "print(y_train_new.shape)"
      ],
      "execution_count": 15,
      "outputs": [
        {
          "output_type": "stream",
          "text": [
            "(8, 1)\n",
            "(8, 3)\n"
          ],
          "name": "stdout"
        }
      ]
    },
    {
      "cell_type": "code",
      "metadata": {
        "id": "yFJBa9MgHxYc"
      },
      "source": [
        "x_train, x_test, y_train, y_test = train_test_split(x, y, test_size=0.2)"
      ],
      "execution_count": 16,
      "outputs": []
    },
    {
      "cell_type": "code",
      "metadata": {
        "id": "7Y836-BtJfH6"
      },
      "source": [
        "lin_reg = LinearRegression()"
      ],
      "execution_count": 17,
      "outputs": []
    },
    {
      "cell_type": "code",
      "metadata": {
        "id": "dhWzxQZGJhiT",
        "colab": {
          "base_uri": "https://localhost:8080/"
        },
        "outputId": "19430fb9-9249-4387-ea0b-b8ca662c2b7b"
      },
      "source": [
        "lin_reg.fit(x_train_new, y_train_new)"
      ],
      "execution_count": 18,
      "outputs": [
        {
          "output_type": "execute_result",
          "data": {
            "text/plain": [
              "LinearRegression(copy_X=True, fit_intercept=True, n_jobs=None, normalize=False)"
            ]
          },
          "metadata": {
            "tags": []
          },
          "execution_count": 18
        }
      ]
    },
    {
      "cell_type": "code",
      "metadata": {
        "id": "Tr7TECpeMWkx",
        "colab": {
          "base_uri": "https://localhost:8080/"
        },
        "outputId": "f570e607-8e92-4b37-fb28-e46aa66d0655"
      },
      "source": [
        "print(lin_reg.coef_)\r\n",
        "print(lin_reg.intercept_)"
      ],
      "execution_count": 19,
      "outputs": [
        {
          "output_type": "stream",
          "text": [
            "[[ 3.82702381]\n",
            " [52.5       ]\n",
            " [ 0.72619048]]\n",
            "[  -7708.8072619  -105651.5          -1461.73809524]\n"
          ],
          "name": "stdout"
        }
      ]
    },
    {
      "cell_type": "code",
      "metadata": {
        "id": "oRCmgLJkMntW",
        "colab": {
          "base_uri": "https://localhost:8080/"
        },
        "outputId": "cad0021c-8803-45c4-f887-11d21d07df7e"
      },
      "source": [
        "x_test = x_test.values.reshape(-1,1)\r\n",
        "lin_reg.score(x_test, y_test)"
      ],
      "execution_count": 20,
      "outputs": [
        {
          "output_type": "stream",
          "text": [
            "/usr/local/lib/python3.6/dist-packages/sklearn/base.py:434: FutureWarning: The default value of multioutput (not exposed in score method) will change from 'variance_weighted' to 'uniform_average' in 0.23 to keep consistent with 'metrics.r2_score'. To specify the default value manually and avoid the warning, please either call 'metrics.r2_score' directly or make a custom scorer with 'metrics.make_scorer' (the built-in scorer 'r2' uses multioutput='uniform_average').\n",
            "  \"multioutput='uniform_average').\", FutureWarning)\n"
          ],
          "name": "stderr"
        },
        {
          "output_type": "execute_result",
          "data": {
            "text/plain": [
              "0.9942839760524317"
            ]
          },
          "metadata": {
            "tags": []
          },
          "execution_count": 20
        }
      ]
    },
    {
      "cell_type": "code",
      "metadata": {
        "id": "ao7C0BnSNeTO",
        "colab": {
          "base_uri": "https://localhost:8080/"
        },
        "outputId": "49e8876f-58be-4828-e096-7498068c6d78"
      },
      "source": [
        "lin_reg.predict([[2021]])"
      ],
      "execution_count": 21,
      "outputs": [
        {
          "output_type": "execute_result",
          "data": {
            "text/plain": [
              "array([[ 25.60785714, 451.        ,   5.89285714]])"
            ]
          },
          "metadata": {
            "tags": []
          },
          "execution_count": 21
        }
      ]
    },
    {
      "cell_type": "code",
      "metadata": {
        "id": "kOTz0af2o0-L"
      },
      "source": [
        "\r\n",
        "# # menentukan algoritma model\r\n",
        "# from sklearn.linear_model import LinearRegression\r\n",
        "# reg = LinearRegression()"
      ],
      "execution_count": 22,
      "outputs": []
    },
    {
      "cell_type": "code",
      "metadata": {
        "id": "d-5CaJEtsZwz"
      },
      "source": [
        "# x = df.drop(['Transaction Value', 'Number of Platform','Demanded Product'],axis =1)\r\n",
        "# y= df[['Transaction Value', 'Number of Platform','Demanded Product']]"
      ],
      "execution_count": 23,
      "outputs": []
    },
    {
      "cell_type": "code",
      "metadata": {
        "id": "qt9tvsgaJQti"
      },
      "source": [
        ""
      ],
      "execution_count": 23,
      "outputs": []
    },
    {
      "cell_type": "code",
      "metadata": {
        "id": "n4iEsMM_so18"
      },
      "source": [
        "# reg.fit(x,y)"
      ],
      "execution_count": 24,
      "outputs": []
    },
    {
      "cell_type": "code",
      "metadata": {
        "id": "19nuEwlIspt8"
      },
      "source": [
        "# x_new = np.array([2021]).reshape(-1,1)"
      ],
      "execution_count": 25,
      "outputs": []
    },
    {
      "cell_type": "code",
      "metadata": {
        "id": "zoij6PPItdvD"
      },
      "source": [
        "# reg.predict(x_new)"
      ],
      "execution_count": 26,
      "outputs": []
    }
  ]
}